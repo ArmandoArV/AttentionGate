{
 "cells": [
  {
   "cell_type": "code",
   "execution_count": 1,
   "metadata": {},
   "outputs": [],
   "source": [
    "initialMatrix = [[1,1,1],[1,10,10],[1,10,10]]\n",
    "mask = [[0.1,0.1],[0.1,0.1]]"
   ]
  },
  {
   "cell_type": "code",
   "execution_count": 2,
   "metadata": {},
   "outputs": [],
   "source": [
    "def maskMult(matrix, mask):\n",
    "    result = []\n",
    "    for i in range(len(matrix) - len(mask) + 1):\n",
    "        result.append([])  \n",
    "        for j in range(len(matrix[0]) - len(mask[0]) + 1):\n",
    "            sum_value = 0\n",
    "            for k in range(len(mask)):\n",
    "                for l in range(len(mask[0])):\n",
    "                    sum_value += matrix[i + k][j + l] * mask[k][l]\n",
    "            result[i].append(sum_value)\n",
    "    return result"
   ]
  },
  {
   "cell_type": "code",
   "execution_count": 3,
   "metadata": {},
   "outputs": [
    {
     "name": "stdout",
     "output_type": "stream",
     "text": [
      "[[1.3, 2.2], [2.2, 4.0]]\n"
     ]
    }
   ],
   "source": [
    "resultMaskMult = maskMult(initialMatrix, mask)\n",
    "print(resultMaskMult) # [[1.3, 2.2], [2.2, 4.0]]"
   ]
  }
 ],
 "metadata": {
  "kernelspec": {
   "display_name": "Python 3",
   "language": "python",
   "name": "python3"
  },
  "language_info": {
   "codemirror_mode": {
    "name": "ipython",
    "version": 3
   },
   "file_extension": ".py",
   "mimetype": "text/x-python",
   "name": "python",
   "nbconvert_exporter": "python",
   "pygments_lexer": "ipython3",
   "version": "3.10.11"
  }
 },
 "nbformat": 4,
 "nbformat_minor": 2
}
