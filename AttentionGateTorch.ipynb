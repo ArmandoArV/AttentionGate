{
 "cells": [
  {
   "cell_type": "code",
   "execution_count": 1,
   "metadata": {},
   "outputs": [
    {
     "name": "stderr",
     "output_type": "stream",
     "text": [
      "C:\\Users\\arman\\AppData\\Local\\Packages\\PythonSoftwareFoundation.Python.3.10_qbz5n2kfra8p0\\LocalCache\\local-packages\\Python310\\site-packages\\tqdm\\auto.py:21: TqdmWarning: IProgress not found. Please update jupyter and ipywidgets. See https://ipywidgets.readthedocs.io/en/stable/user_install.html\n",
      "  from .autonotebook import tqdm as notebook_tqdm\n"
     ]
    }
   ],
   "source": [
    "import torch\n",
    "import torch.nn as nn\n",
    "import torch.nn.functional as F"
   ]
  },
  {
   "cell_type": "code",
   "execution_count": 2,
   "metadata": {},
   "outputs": [],
   "source": [
    "class FeatureModulationBlock(nn.Module):\n",
    "    def __init__(self):\n",
    "        super(FeatureModulationBlock, self).__init__()\n",
    "        \n",
    "        # For simplicity, we'll use 1x1 convolutions to match the diagram.\n",
    "        self.conv_g = nn.Conv2d(1, 1, kernel_size=1)  # For the g input\n",
    "        self.conv_x = nn.Conv2d(1, 1, kernel_size=1)  # For the x input\n",
    "        \n",
    "        # Resampling is equivalent to applying a mask; no need for convolution here\n",
    "        self.alpha_conv = nn.Conv2d(1, 1, kernel_size=1)\n",
    "\n",
    "    def forward(self, g, x, mask):\n",
    "        # Convert mask to the right format and apply it in the forward pass\n",
    "        mask_tensor = torch.tensor(mask).unsqueeze(0).unsqueeze(0)  # Reshape to 1x1x2x2\n",
    "        \n",
    "        # Process g input\n",
    "        g_out = self.conv_g(g)\n",
    "        \n",
    "        # Process x input\n",
    "        x_out = self.conv_x(x)\n",
    "        \n",
    "        # Element-wise addition (represented by ⊕ in the diagram)\n",
    "        combined = g_out + x_out\n",
    "        \n",
    "        # Apply ReLU (σ₁) after combining\n",
    "        relu_out = F.relu(combined)\n",
    "        \n",
    "        # Sigmoid to modulate features\n",
    "        sigmoid_out = torch.sigmoid(relu_out)\n",
    "        \n",
    "        # Resample or apply mask\n",
    "        # In this case, directly multiply the result by the mask\n",
    "        resampled = F.interpolate(mask_tensor, size=sigmoid_out.shape[2:], mode='bilinear', align_corners=False)\n",
    "        \n",
    "        # Apply mask (or scaling factor α) to sigmoid output\n",
    "        alpha_out = resampled * sigmoid_out\n",
    "        \n",
    "        # Element-wise multiplication with input x\n",
    "        output = alpha_out * x\n",
    "        \n",
    "        return output"
   ]
  },
  {
   "cell_type": "code",
   "execution_count": 3,
   "metadata": {},
   "outputs": [],
   "source": [
    "initialMatrix = torch.tensor([[1, 1, 1], [1, 10, 10], [1, 10, 10]], dtype=torch.float32).unsqueeze(0).unsqueeze(0)  # Shape 1x1x3x3\n",
    "mask = [[0.1, 0.1], [0.1, 0.1]]  # 2x2 mask\n"
   ]
  },
  {
   "cell_type": "code",
   "execution_count": 4,
   "metadata": {},
   "outputs": [],
   "source": [
    "g_input = torch.ones_like(initialMatrix)  # 1x1x3x3\n",
    "\n",
    "# Create the model and forward pass\n",
    "model = FeatureModulationBlock()\n",
    "output = model(g_input, initialMatrix, mask)"
   ]
  },
  {
   "cell_type": "code",
   "execution_count": 5,
   "metadata": {},
   "outputs": [
    {
     "name": "stdout",
     "output_type": "stream",
     "text": [
      "Output:\n",
      "[[0.05       0.05       0.05      ]\n",
      " [0.05       0.5        0.5       ]\n",
      " [0.05       0.5        0.49999997]]\n"
     ]
    }
   ],
   "source": [
    "print(\"Output:\")\n",
    "print(output.squeeze().detach().numpy())  # Print the result in readable form"
   ]
  }
 ],
 "metadata": {
  "kernelspec": {
   "display_name": "Python 3",
   "language": "python",
   "name": "python3"
  },
  "language_info": {
   "codemirror_mode": {
    "name": "ipython",
    "version": 3
   },
   "file_extension": ".py",
   "mimetype": "text/x-python",
   "name": "python",
   "nbconvert_exporter": "python",
   "pygments_lexer": "ipython3",
   "version": "3.10.11"
  }
 },
 "nbformat": 4,
 "nbformat_minor": 2
}
